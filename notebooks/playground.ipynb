{
 "cells": [
  {
   "cell_type": "markdown",
   "id": "76a87e70-f9ba-4631-9a9c-77217e0918f9",
   "metadata": {},
   "source": [
    "# Setup"
   ]
  },
  {
   "cell_type": "code",
   "execution_count": 11,
   "id": "373501c9-813b-4d94-87e2-0d0a7a4ae6e5",
   "metadata": {},
   "outputs": [],
   "source": [
    "import os\n",
    "\n",
    "from dotenv import load_dotenv\n",
    "\n",
    "import fixpoint\n",
    "from fixpoint.agents.openai import OpenAIClients\n",
    "from fixpoint.agents.protocol import TikTokenLogger\n",
    "from fixpoint.memory import memgpt_summarize, MemGPTSummarizeOpts, MemGPTSummaryAgent, Memory\n",
    "from fixpoint.utils.messages import umsg, amsg, smsg"
   ]
  },
  {
   "cell_type": "code",
   "execution_count": 4,
   "id": "6f6c8ea8-0465-430f-88be-bdf48fd7a27a",
   "metadata": {},
   "outputs": [
    {
     "name": "stdout",
     "output_type": "stream",
     "text": [
      "INFO:fixpoint:Info mode is on?\n"
     ]
    }
   ],
   "source": [
    "import logging\n",
    "import sys\n",
    "from fixpoint.logging import logger\n",
    "logging.basicConfig(stream=sys.stdout)\n",
    "logger.setLevel(logging.INFO)\n",
    "logger.info(\"Info mode is on?\")"
   ]
  },
  {
   "cell_type": "code",
   "execution_count": 5,
   "id": "d7736c00-294d-4bc7-ba28-abb58d71abfd",
   "metadata": {},
   "outputs": [],
   "source": [
    "assert load_dotenv('../.env')"
   ]
  },
  {
   "cell_type": "code",
   "execution_count": 13,
   "id": "75d27181-7be5-43af-9423-cb1ab3e22625",
   "metadata": {},
   "outputs": [],
   "source": [
    "model_name = 'gpt-3.5-turbo'\n",
    "agent_mem = Memory()\n",
    "tokenlogger = TikTokenLogger(model_name)"
   ]
  },
  {
   "cell_type": "markdown",
   "id": "01d26053-7de3-4f68-ad06-879287603a2a",
   "metadata": {},
   "source": [
    "# Use an OpenAI compatible agent"
   ]
  },
  {
   "cell_type": "code",
   "execution_count": 15,
   "id": "3c094e92-e84b-4589-885f-396dd667d1ab",
   "metadata": {},
   "outputs": [],
   "source": [
    "agent = fixpoint.agents.OpenAI(\n",
    "    model_name=model_name,\n",
    "    openai_clients=OpenAIClients.from_api_key(os.environ['OPENAI_API_KEY']),\n",
    "    memory=agent_mem,\n",
    "    pre_completion_fns=[tokenlogger.tiktoken_logger]\n",
    ")"
   ]
  },
  {
   "cell_type": "code",
   "execution_count": 16,
   "id": "71ff8c59-840a-4b81-b7a6-110565ec949d",
   "metadata": {},
   "outputs": [
    {
     "name": "stdout",
     "output_type": "stream",
     "text": [
      "INFO:fixpoint:Total input tokens: 12\n"
     ]
    }
   ],
   "source": [
    "completion = agent.chat.completions.create(\n",
    "    messages=[{\"role\": \"user\", \"content\": \"What is a fixpoint, in math terms?\"}]\n",
    ")"
   ]
  },
  {
   "cell_type": "code",
   "execution_count": 20,
   "id": "2d6c741d-478f-4804-807e-061ef1582c18",
   "metadata": {},
   "outputs": [
    {
     "name": "stdout",
     "output_type": "stream",
     "text": [
      "In mathematics, a fixpoint refers to a value that remains unchanged when a particular function or operation is applied to it. In other words, a fixpoint is a point or element within a set that is mapped to itself under a given transformation. Fixpoints are important in various branches of mathematics, such as calculus, topology, and dynamical systems.\n"
     ]
    }
   ],
   "source": [
    "print(completion.choices[0].message.content)"
   ]
  },
  {
   "cell_type": "code",
   "execution_count": 27,
   "id": "e24de94a-2db3-4df8-a4c5-bd06eb46af05",
   "metadata": {},
   "outputs": [
    {
     "name": "stdout",
     "output_type": "stream",
     "text": [
      "Number of memories: 1\n"
     ]
    }
   ],
   "source": [
    "print(\"Number of memories:\", len(agent_mem.memory()))"
   ]
  },
  {
   "cell_type": "code",
   "execution_count": 28,
   "id": "38154707-90b1-4cca-b488-714a0dd06a4d",
   "metadata": {},
   "outputs": [
    {
     "name": "stdout",
     "output_type": "stream",
     "text": [
      "user: What is a fixpoint, in math terms?\n",
      "assistant: In mathematics, a fixpoint refers to a value that remains unchanged when a particular function or operation is applied to it. In other words, a fixpoint is a point or element within a set that is mapped to itself under a given transformation. Fixpoints are important in various branches of mathematics, such as calculus, topology, and dynamical systems.\n",
      "============================================================\n"
     ]
    }
   ],
   "source": [
    "print(agent_mem.to_str())"
   ]
  },
  {
   "cell_type": "markdown",
   "id": "97f4dfe9-85fe-4654-8c72-b970ec65eb4c",
   "metadata": {},
   "source": [
    "# Use a memory summarizer agent"
   ]
  },
  {
   "cell_type": "code",
   "execution_count": null,
   "id": "b4ed0834-59a3-4d16-9f6f-0e98bb52a281",
   "metadata": {},
   "outputs": [],
   "source": [
    "agent = fixpoint.agents.OpenAIAgent(\n",
    "    model_name=model_name,\n",
    "    openai_clients=OpenAIClients.from_api_key(os.environ['OPENAI_API_KEY']),\n",
    "    memory=agent_mem,\n",
    "    pre_completion_fns=[tokenlogger.tiktoken_logger]\n",
    ")"
   ]
  },
  {
   "cell_type": "code",
   "execution_count": 8,
   "id": "027f2402-667d-4394-bb94-86cf63348e46",
   "metadata": {},
   "outputs": [],
   "source": [
    "memgpt_sum_opts = MemGPTSummarizeOpts(\n",
    "    agent=agent,\n",
    "    context_window=200\n",
    ")"
   ]
  },
  {
   "cell_type": "code",
   "execution_count": 12,
   "id": "3ba66ef1-c7bb-43dc-9554-d89794a81602",
   "metadata": {},
   "outputs": [],
   "source": [
    "summary_agent = MemGPTSummaryAgent(memgpt_sum_opts)"
   ]
  },
  {
   "cell_type": "code",
   "execution_count": null,
   "id": "42a1816b-6ffc-4723-b384-3133d4e1963d",
   "metadata": {},
   "outputs": [],
   "source": [
    "compl = summary_agent.create_completion(messages=[\n",
    "    smsg(\"You are a friendly AI customer support agent. You chat with a user to answer their questions\"),\n",
    "    umsg(\"What is your name?\")\n",
    "])"
   ]
  },
  {
   "cell_type": "code",
   "execution_count": null,
   "id": "ef584814-446e-4aec-935a-d9cf20484327",
   "metadata": {},
   "outputs": [],
   "source": [
    "agent_mem.memory()[0][0]"
   ]
  },
  {
   "cell_type": "code",
   "execution_count": null,
   "id": "fcde3051-c28f-4d03-b263-22a9b265c70d",
   "metadata": {},
   "outputs": [],
   "source": []
  },
  {
   "cell_type": "code",
   "execution_count": null,
   "id": "76f068be-9655-493b-9e8d-b5a2046358cf",
   "metadata": {},
   "outputs": [],
   "source": [
    "agent_mem.memory()"
   ]
  },
  {
   "cell_type": "code",
   "execution_count": null,
   "id": "ee5544c6-cac5-4197-9599-6d6f1f02f3d1",
   "metadata": {},
   "outputs": [],
   "source": [
    "compl = summary_agent.create_completion(messages=[\n",
    "    smsg(\"You are a friendly AI customer support agent. You chat with a user to answer their questions\"),\n",
    "    umsg(\"Can you help me pick out a new sports car?\")\n",
    "])"
   ]
  },
  {
   "cell_type": "code",
   "execution_count": null,
   "id": "b662a297-63c2-4223-8d0f-8e2ce5d8d46d",
   "metadata": {},
   "outputs": [],
   "source": [
    "agent_mem.memory()"
   ]
  },
  {
   "cell_type": "code",
   "execution_count": null,
   "id": "32d88f1d-da01-46f4-8867-f19b6d3db42a",
   "metadata": {},
   "outputs": [],
   "source": [
    "compl = summary_agent.create_completion(messages=[\n",
    "    smsg(\"You are a friendly AI customer support agent. You chat with a user to answer their questions\"),\n",
    "    umsg(\"hi\")\n",
    "])"
   ]
  },
  {
   "cell_type": "code",
   "execution_count": null,
   "id": "814016b7-6251-4349-b60a-fa696195a57c",
   "metadata": {},
   "outputs": [],
   "source": [
    "agent_mem.memory()[-1]"
   ]
  },
  {
   "cell_type": "code",
   "execution_count": null,
   "id": "998a2b94-65af-4d5a-a7b3-8a840fdfa93b",
   "metadata": {},
   "outputs": [],
   "source": [
    "print(agent_mem.format_str())"
   ]
  }
 ],
 "metadata": {
  "kernelspec": {
   "display_name": "Python 3 (ipykernel)",
   "language": "python",
   "name": "python3"
  },
  "language_info": {
   "codemirror_mode": {
    "name": "ipython",
    "version": 3
   },
   "file_extension": ".py",
   "mimetype": "text/x-python",
   "name": "python",
   "nbconvert_exporter": "python",
   "pygments_lexer": "ipython3",
   "version": "3.12.3"
  }
 },
 "nbformat": 4,
 "nbformat_minor": 5
}
