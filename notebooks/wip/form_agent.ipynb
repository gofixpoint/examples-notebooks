{
 "cells": [
  {
   "cell_type": "markdown",
   "metadata": {},
   "source": [
    "# Setup"
   ]
  },
  {
   "cell_type": "code",
   "execution_count": 1,
   "metadata": {},
   "outputs": [],
   "source": [
    "import os\n",
    "\n",
    "from dotenv import load_dotenv\n",
    "\n",
    "from fixpoint.cache import ChatCompletionDiskTLRUCache, ChatCompletionTLRUCache\n",
    "from fixpoint.utils.messages import umsg, smsg, umsg"
   ]
  },
  {
   "cell_type": "code",
   "execution_count": 9,
   "metadata": {},
   "outputs": [],
   "source": [
    "from fixpoint_extras.services import formagent\n",
    "from fixpoint_extras.services.formagent.setup import (\n",
    "    setup_workflow\n",
    ")\n",
    "from fixpoint_extras.services.formagent.controllers.infogather import (\n",
    "    InfoGatherer\n",
    ")\n",
    "from fixpoint_extras.workflows.imperative.form import Form"
   ]
  },
  {
   "cell_type": "code",
   "execution_count": 10,
   "metadata": {},
   "outputs": [
    {
     "name": "stdout",
     "output_type": "stream",
     "text": [
      "INFO:fixpoint:Info mode is on?\n"
     ]
    }
   ],
   "source": [
    "import logging\n",
    "import sys\n",
    "from fixpoint.logging import logger\n",
    "logging.basicConfig(stream=sys.stdout)\n",
    "logger.setLevel(logging.DEBUG)\n",
    "logger.info(\"Info mode is on?\")"
   ]
  },
  {
   "cell_type": "code",
   "execution_count": 2,
   "metadata": {},
   "outputs": [],
   "source": [
    "assert load_dotenv('../.env')"
   ]
  },
  {
   "cell_type": "code",
   "execution_count": null,
   "metadata": {},
   "outputs": [],
   "source": []
  },
  {
   "cell_type": "code",
   "execution_count": 3,
   "metadata": {},
   "outputs": [],
   "source": [
    "import os\n",
    "import fixpoint\n",
    "from fixpoint.agents.openai import OpenAIClients\n",
    "from fixpoint.cache import ChatCompletionTLRUCache"
   ]
  },
  {
   "cell_type": "code",
   "execution_count": 4,
   "metadata": {},
   "outputs": [],
   "source": [
    "cache = ChatCompletionTLRUCache(maxsize=1000, ttl_s=60*60)"
   ]
  },
  {
   "cell_type": "code",
   "execution_count": 5,
   "metadata": {},
   "outputs": [],
   "source": [
    "agent = fixpoint.agents.oai.OpenAI(\n",
    "    model_name='gpt-3.5-turbo',\n",
    "    openai_clients=OpenAIClients.from_api_key(os.environ['OPENAI_API_KEY']),\n",
    "    cache=cache,\n",
    ")"
   ]
  },
  {
   "cell_type": "code",
   "execution_count": 35,
   "metadata": {},
   "outputs": [],
   "source": [
    "completion = agent.chat.completions.create(messages=[\n",
    "    {\"role\": \"user\", \"content\": \"What are the three laws of robotics? And what do you think of them?\"},\n",
    "], temperature=1)"
   ]
  },
  {
   "cell_type": "code",
   "execution_count": 36,
   "metadata": {},
   "outputs": [
    {
     "name": "stdout",
     "output_type": "stream",
     "text": [
      "The Three Laws of Robotics were introduced by science fiction writer Isaac Asimov in his 1942 short story \"Runaround.\" The laws are as follows:\n",
      "\n",
      "1. A robot may not injure a human being or, through inaction, allow a human being to come to harm.\n",
      "2. A robot must obey the orders given it by human beings except where such orders would conflict with the First Law.\n",
      "3. A robot must protect its own existence as long as such protection does not conflict with the First or Second Laws.\n",
      "\n",
      "The Three Laws of Robotics are a foundational concept in the field of robotics and artificial intelligence. They have sparked interesting conversations and debates about the ethics and moral implications of creating autonomous machines that may one day surpass humans in intelligence. Overall, the laws serve as a starting point for discussions on how to ensure the safety and well-being of humans while advancing technology. It is essential to continue to analyze and refine these laws as technology evolves to address potential ethical dilemmas.\n"
     ]
    }
   ],
   "source": [
    "print(completion.choices[0].message.content)"
   ]
  },
  {
   "cell_type": "code",
   "execution_count": 34,
   "metadata": {},
   "outputs": [],
   "source": [
    "# Types of cache modes:\n",
    "#\n",
    "# - skip_lookup: Don't look up keys in the cache, but write results to the\n",
    "#   cache.\n",
    "# - skip_all: Don't look up the cache, and don't store the result.\n",
    "# - normal: Look up the cache, and store the result if it's not in the cache.\n",
    "agent.fixp.set_cache_mode('skip_lookup')\n",
    "\n",
    "completion = agent.chat.completions.create(messages=[\n",
    "    {\"role\": \"user\", \"content\": \"What are the three laws of robotics? And what do you think of them?\"}\n",
    "], temperature=1)\n",
    "\n",
    "agent.fixp.set_cache_mode('normal')"
   ]
  },
  {
   "cell_type": "code",
   "execution_count": 33,
   "metadata": {},
   "outputs": [
    {
     "name": "stdout",
     "output_type": "stream",
     "text": [
      "The Three Laws of Robotics were introduced by science fiction writer Isaac Asimov in his 1942 short story \"Runaround.\" The laws are as follows:\n",
      "\n",
      "1. A robot may not injure a human being or, through inaction, allow a human being to come to harm.\n",
      "2. A robot must obey the orders given it by human beings except where such orders would conflict with the First Law.\n",
      "3. A robot must protect its own existence as long as such protection does not conflict with the First or Second Laws.\n",
      "\n",
      "The Three Laws of Robotics are a foundational concept in the field of robotics and artificial intelligence. They have sparked interesting conversations and debates about the ethics and moral implications of creating autonomous machines that may one day surpass humans in intelligence. Overall, the laws serve as a starting point for discussions on how to ensure the safety and well-being of humans while advancing technology. It is essential to continue to analyze and refine these laws as technology evolves to address potential ethical dilemmas.\n"
     ]
    }
   ],
   "source": [
    "print(completion.choices[0].message.content)"
   ]
  },
  {
   "cell_type": "code",
   "execution_count": null,
   "metadata": {},
   "outputs": [],
   "source": []
  },
  {
   "cell_type": "code",
   "execution_count": 5,
   "metadata": {},
   "outputs": [],
   "source": [
    "cache = ChatCompletionDiskTLRUCache(\n",
    "    '../localdata/diskcache/',\n",
    "    ttl_s=60*60*24*7 # one week\n",
    ")"
   ]
  },
  {
   "cell_type": "code",
   "execution_count": null,
   "metadata": {},
   "outputs": [],
   "source": [
    "wfctx = setup_workflow(\n",
    "    os.environ['OPENAI_API_KEY'],\n",
    "    model_name='gpt-3.5-turbo',\n",
    "    cache=cache,\n",
    "    # uncomment this is you want to proxy requests through our logging server to log them\n",
    "    # openai_base_url='http://localhost:8081/v1/proxy/openai/',\n",
    "    default_openai_headers={\n",
    "        \"Fixpoint-Inference-API-Key\": os.environ['OPENAI_API_KEY'],\n",
    "        \"Fixpoint-API-Key\": os.environ['FIXPOINT_API_KEY'],\n",
    "    }\n",
    ")"
   ]
  },
  {
   "cell_type": "code",
   "execution_count": null,
   "metadata": {},
   "outputs": [],
   "source": [
    "invoice_questions_form = Form(\n",
    "    id=\"invoice_questions\",\n",
    "    path=\"/invoice\",\n",
    "    form_schema=formagent.tasks.invoice.InvoiceQuestions\n",
    ")"
   ]
  },
  {
   "cell_type": "code",
   "execution_count": null,
   "metadata": {},
   "outputs": [],
   "source": [
    "info_gatherer = InfoGatherer(invoice_questions_form, wfctx.agents['main'])"
   ]
  },
  {
   "cell_type": "markdown",
   "metadata": {},
   "source": [
    "# Run the steps"
   ]
  },
  {
   "cell_type": "markdown",
   "metadata": {},
   "source": [
    "## Classify"
   ]
  },
  {
   "cell_type": "code",
   "execution_count": null,
   "metadata": {},
   "outputs": [],
   "source": [
    "# wfctx.agent.set_cache_mode('normal')\n",
    "# wfctx.agent.set_cache_mode('skip_lookup')\n",
    "# wfctx.cache.clear()\n",
    "formtype, completion = formagent.tasks.classify_form_type(\n",
    "    wfctx,\n",
    "    \"I am making a form to charge a client for my consulting services\",\n",
    "    # cache_mode=\"skip_lookup\"\n",
    ")\n",
    "print()\n",
    "print(completion.chain_of_thought)\n",
    "print(formtype.value)"
   ]
  },
  {
   "cell_type": "markdown",
   "metadata": {},
   "source": [
    "## Invoice"
   ]
  },
  {
   "cell_type": "code",
   "execution_count": null,
   "metadata": {},
   "outputs": [],
   "source": [
    "# wfctx.agents['main'].set_cache_mode(\"skip_lookup\")\n",
    "# wfctx.agent.set_cache_mode(\"normal\")\n",
    "\n",
    "# inv_qs, inv_compl = formagent.tasks.answer_invoice_questions(\n",
    "#     wfctx,\n",
    "#     \"I am sending the invoice to Dylan at dylan@fixpoint.co\"\n",
    "# )\n",
    "\n",
    "invoice_info, completion = formagent.tasks.invoice.gather_invoice_info(\n",
    "    wfctx,\n",
    "    info_gatherer,\n",
    "    user_message=\"I am sending the invoice to Dylan at dylan@fixpoint.co\"\n",
    ")"
   ]
  },
  {
   "cell_type": "code",
   "execution_count": null,
   "metadata": {},
   "outputs": [],
   "source": [
    "invoice_info"
   ]
  },
  {
   "cell_type": "code",
   "execution_count": null,
   "metadata": {},
   "outputs": [],
   "source": [
    "info_gatherer._questions"
   ]
  },
  {
   "cell_type": "code",
   "execution_count": null,
   "metadata": {},
   "outputs": [],
   "source": [
    "print(info_gatherer.format_questions())"
   ]
  },
  {
   "cell_type": "code",
   "execution_count": null,
   "metadata": {},
   "outputs": [],
   "source": [
    "invoice_info, completion = formagent.tasks.invoice.gather_invoice_info(\n",
    "    wfctx,\n",
    "    info_gatherer,\n",
    "    # TODO(dbmikus) we should be able to answer form invoice questions based on\n",
    "    # the original classification message.\n",
    "    user_message=\"The cost is $25k, and its for my AI/LLM consulting services.\"\n",
    ")"
   ]
  },
  {
   "cell_type": "code",
   "execution_count": null,
   "metadata": {},
   "outputs": [],
   "source": [
    "info_gatherer.is_complete()"
   ]
  },
  {
   "cell_type": "code",
   "execution_count": null,
   "metadata": {},
   "outputs": [],
   "source": [
    "import pprint\n",
    "\n",
    "pprint.pprint(info_gatherer.form.contents.model_dump())\n",
    "print()\n",
    "pprint.pprint([h.model_dump() for h in info_gatherer.info_history])"
   ]
  },
  {
   "cell_type": "markdown",
   "metadata": {},
   "source": [
    "# Scratch"
   ]
  },
  {
   "cell_type": "code",
   "execution_count": null,
   "metadata": {},
   "outputs": [],
   "source": [
    "import json\n",
    "\n",
    "print(json.dumps(\n",
    "    formagent.tasks.invoice.InvoiceQuestions.schema(),\n",
    "    indent=2\n",
    "))"
   ]
  },
  {
   "cell_type": "code",
   "execution_count": null,
   "metadata": {},
   "outputs": [],
   "source": []
  },
  {
   "cell_type": "code",
   "execution_count": null,
   "metadata": {},
   "outputs": [],
   "source": [
    "from collections import defaultdict\n",
    "\n",
    "# defaultdict(defaultdict(dict))\n",
    "x = defaultdict(lambda: defaultdict(dict))"
   ]
  },
  {
   "cell_type": "code",
   "execution_count": null,
   "metadata": {},
   "outputs": [],
   "source": [
    "x['w1']['t1']['s1'] = 'hi'"
   ]
  },
  {
   "cell_type": "code",
   "execution_count": null,
   "metadata": {},
   "outputs": [],
   "source": [
    "x['w1']['t1']['s1']"
   ]
  },
  {
   "cell_type": "code",
   "execution_count": null,
   "metadata": {},
   "outputs": [],
   "source": []
  },
  {
   "cell_type": "code",
   "execution_count": null,
   "metadata": {},
   "outputs": [],
   "source": [
    "from fixpoint import WorkflowRun"
   ]
  },
  {
   "cell_type": "code",
   "execution_count": null,
   "metadata": {},
   "outputs": [],
   "source": [
    "w = WorkflowRun(workflow_id=\"hi\", id=\"a-run\")"
   ]
  },
  {
   "cell_type": "code",
   "execution_count": null,
   "metadata": {},
   "outputs": [],
   "source": [
    "w"
   ]
  },
  {
   "cell_type": "code",
   "execution_count": null,
   "metadata": {},
   "outputs": [],
   "source": [
    "w.id"
   ]
  },
  {
   "cell_type": "code",
   "execution_count": null,
   "metadata": {},
   "outputs": [],
   "source": [
    "df = wfctx.memory.to_dataframe()\n",
    "df"
   ]
  }
 ],
 "metadata": {
  "kernelspec": {
   "display_name": "Python 3 (ipykernel)",
   "language": "python",
   "name": "python3"
  },
  "language_info": {
   "codemirror_mode": {
    "name": "ipython",
    "version": 3
   },
   "file_extension": ".py",
   "mimetype": "text/x-python",
   "name": "python",
   "nbconvert_exporter": "python",
   "pygments_lexer": "ipython3",
   "version": "3.12.3"
  }
 },
 "nbformat": 4,
 "nbformat_minor": 4
}
