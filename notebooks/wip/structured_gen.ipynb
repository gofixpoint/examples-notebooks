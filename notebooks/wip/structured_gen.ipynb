{
 "cells": [
  {
   "cell_type": "code",
   "execution_count": 2,
   "id": "664d2c6e-098d-41b4-8830-371fe8a7845a",
   "metadata": {},
   "outputs": [],
   "source": [
    "from dotenv import load_dotenv"
   ]
  },
  {
   "cell_type": "code",
   "execution_count": null,
   "id": "f1d001be-0373-425f-aa17-57d34941446d",
   "metadata": {},
   "outputs": [],
   "source": []
  },
  {
   "cell_type": "code",
   "execution_count": 5,
   "id": "4e453c6c-b7fd-4685-8a5b-ab3e331a75d3",
   "metadata": {},
   "outputs": [],
   "source": [
    "import json\n",
    "import os\n",
    "from typing import Literal, Union\n",
    "from pydantic import BaseModel, Field\n",
    "\n",
    "import fixpoint\n",
    "from fixpoint.agents.openai import OpenAIClients"
   ]
  },
  {
   "cell_type": "code",
   "execution_count": 6,
   "id": "a8edb649-ef8d-4f42-9930-b6924a624855",
   "metadata": {},
   "outputs": [],
   "source": [
    "class SportsCar(BaseModel):\n",
    "    explanation: str = Field(description=\"An explanation of why you picked the given car\")\n",
    "    car: Union[Literal['Porsche 911'], Literal['Honda Fit'], Literal['Ford F-150']] = Field(\n",
    "        description=\"the make and model of the car\"\n",
    "    )"
   ]
  },
  {
   "cell_type": "code",
   "execution_count": 7,
   "id": "bd4a7aab-6ad8-4832-b654-bd874a0f7a74",
   "metadata": {},
   "outputs": [],
   "source": [
    "agent = fixpoint.agents.oai.OpenAI(\n",
    "    model_name='gpt-3.5-turbo',\n",
    "    openai_clients=OpenAIClients.from_api_key(os.environ['OPENAI_API_KEY']),\n",
    ")"
   ]
  },
  {
   "cell_type": "code",
   "execution_count": 8,
   "id": "e848e1af-96d5-4a02-bb64-3f9acb982f84",
   "metadata": {},
   "outputs": [],
   "source": [
    "compl = agent.chat.completions.create(\n",
    "    messages=[\n",
    "        {\"role\": \"user\",\n",
    "         \"content\": \"Can you help me pick out a new sports car? I often need to haul a lot of cargo\"},\n",
    "    ],\n",
    "    response_model=SportsCar\n",
    ")"
   ]
  },
  {
   "cell_type": "code",
   "execution_count": 9,
   "id": "980b43b9-b107-4136-9b8e-9e3ac2fc14af",
   "metadata": {},
   "outputs": [
    {
     "name": "stdout",
     "output_type": "stream",
     "text": [
      "{'explanation': 'It is important to have a sports car that can haul cargo efficiently', 'car': 'Ford F-150'}\n"
     ]
    }
   ],
   "source": [
    "tool_call_dict = json.loads(compl.choices[0].message.tool_calls[0].function.arguments)\n",
    "print(tool_call_dict)"
   ]
  },
  {
   "cell_type": "code",
   "execution_count": 10,
   "id": "f6f3a867-d723-410f-be7f-8850baf3d6ef",
   "metadata": {},
   "outputs": [
    {
     "data": {
      "text/plain": [
       "SportsCar(explanation='It is important to have a sports car that can haul cargo efficiently', car='Ford F-150')"
      ]
     },
     "execution_count": 10,
     "metadata": {},
     "output_type": "execute_result"
    }
   ],
   "source": [
    "compl.fixp.structured_output"
   ]
  },
  {
   "cell_type": "code",
   "execution_count": null,
   "id": "0f2540e9-f440-4c53-856f-7f2d25ea5b21",
   "metadata": {},
   "outputs": [],
   "source": []
  },
  {
   "cell_type": "code",
   "execution_count": null,
   "id": "0db03b21-4523-481c-b280-b85e21e7a5e4",
   "metadata": {},
   "outputs": [],
   "source": []
  },
  {
   "cell_type": "code",
   "execution_count": 23,
   "id": "c229ad43-4d73-4f05-951b-0979d7f7896e",
   "metadata": {},
   "outputs": [],
   "source": [
    "import json\n",
    "import os\n",
    "from typing import Literal, Union\n",
    "\n",
    "from dotenv import load_dotenv\n",
    "\n",
    "import fixpoint\n",
    "from fixpoint.agents.callbacks import TikTokenLogger\n",
    "from fixpoint.agents.openai import OpenAIClients\n",
    "from fixpoint.analyze.memory import DataframeMemory\n",
    "from fixpoint.utils.messages import amsg, smsg, umsg"
   ]
  },
  {
   "cell_type": "code",
   "execution_count": 10,
   "id": "74480f7b-1470-4db4-890b-d042be3c42ab",
   "metadata": {},
   "outputs": [],
   "source": [
    "from pydantic import BaseModel, Field"
   ]
  },
  {
   "cell_type": "code",
   "execution_count": 5,
   "id": "d17b6038-075e-4fcb-9b63-102280b0368b",
   "metadata": {},
   "outputs": [
    {
     "name": "stdout",
     "output_type": "stream",
     "text": [
      "INFO:fixpoint:Info mode is on?\n"
     ]
    }
   ],
   "source": [
    "import logging\n",
    "import sys\n",
    "from fixpoint.logging import logger\n",
    "logging.basicConfig(stream=sys.stdout)\n",
    "logger.setLevel(logging.INFO)\n",
    "logger.info(\"Info mode is on?\")"
   ]
  },
  {
   "cell_type": "code",
   "execution_count": 3,
   "id": "59b21f79-5277-4128-b5ba-711abe86ebc4",
   "metadata": {},
   "outputs": [],
   "source": [
    "assert load_dotenv('../.env')"
   ]
  },
  {
   "cell_type": "code",
   "execution_count": 8,
   "id": "9a4d9180-51d5-4122-aeda-97dc19355524",
   "metadata": {},
   "outputs": [],
   "source": [
    "model_name = 'gpt-3.5-turbo'\n",
    "agent_mem = DataframeMemory()\n",
    "tokenlogger = TikTokenLogger(model_name)\n",
    "agent = fixpoint.agents.oai.OpenAI(\n",
    "    model_name=model_name,\n",
    "    openai_clients=OpenAIClients.from_api_key(os.environ['OPENAI_API_KEY']),\n",
    "    memory=agent_mem,\n",
    "    pre_completion_fns=[tokenlogger.tiktoken_logger]\n",
    ")"
   ]
  },
  {
   "cell_type": "code",
   "execution_count": 11,
   "id": "d02afa38-4651-4371-956f-dc0f71edc206",
   "metadata": {},
   "outputs": [],
   "source": [
    "class SportsCar(BaseModel):\n",
    "    explanation: str = Field(description=\"An explanation of why you picked the given car\")\n",
    "    car: Union[Literal['Porsche 911'], Literal['Honda Fit'], Literal['Ford F-150']] = Field(\n",
    "        description=\"the make and model of the car\"\n",
    "    )"
   ]
  },
  {
   "cell_type": "code",
   "execution_count": 16,
   "id": "ca4fbccd-f1bb-4b25-b7b4-811d136977a3",
   "metadata": {},
   "outputs": [
    {
     "name": "stdout",
     "output_type": "stream",
     "text": [
      "INFO:fixpoint:Total input tokens: 43\n"
     ]
    }
   ],
   "source": [
    "compl = agent.chat.completions.create(\n",
    "    messages=[\n",
    "        umsg(\"Can you help me pick out a new sports car? I often need to haul a lot of cargo\"),\n",
    "    ],\n",
    "    response_model=SportsCar\n",
    ")"
   ]
  },
  {
   "cell_type": "code",
   "execution_count": 17,
   "id": "ccc21870-d0de-466d-9471-b383cce76196",
   "metadata": {},
   "outputs": [
    {
     "data": {
      "text/plain": [
       "2"
      ]
     },
     "execution_count": 17,
     "metadata": {},
     "output_type": "execute_result"
    }
   ],
   "source": [
    "len(agent_mem.memories())"
   ]
  },
  {
   "cell_type": "code",
   "execution_count": 26,
   "id": "a2452582-a0d3-4390-b034-cec14dee2c75",
   "metadata": {},
   "outputs": [
    {
     "name": "stdout",
     "output_type": "stream",
     "text": [
      "{'explanation': \"Considering your need to haul a lot of cargo, I recommend a Ford F-150. It's a versatile and powerful truck that can handle both performance and practicality.\", 'car': 'Ford F-150'}\n"
     ]
    }
   ],
   "source": [
    "tool_call_dict = json.loads(compl.choices[0].message.tool_calls[0].function.arguments)\n",
    "print(tool_call_dict)"
   ]
  },
  {
   "cell_type": "code",
   "execution_count": 27,
   "id": "97b3e356-6f07-4dcd-8e28-4273b0f0e5d3",
   "metadata": {},
   "outputs": [
    {
     "data": {
      "text/plain": [
       "SportsCar(explanation=\"Considering your need to haul a lot of cargo, I recommend a Ford F-150. It's a versatile and powerful truck that can handle both performance and practicality.\", car='Ford F-150')"
      ]
     },
     "execution_count": 27,
     "metadata": {},
     "output_type": "execute_result"
    }
   ],
   "source": [
    "compl.fixp.structured_output"
   ]
  },
  {
   "cell_type": "code",
   "execution_count": null,
   "id": "e89b341a-f08d-4da3-a68b-56c35cee2237",
   "metadata": {},
   "outputs": [],
   "source": []
  },
  {
   "cell_type": "code",
   "execution_count": 11,
   "id": "51e7b07c-909f-487f-9120-ad11a00155da",
   "metadata": {},
   "outputs": [
    {
     "name": "stdout",
     "output_type": "stream",
     "text": [
      "system: You are a friendly AI customer support agent. You chat with a user to answer their questions\n",
      "user: Can you help me pick out a new sports car?\n",
      "assistant: None\n",
      "============================================================\n"
     ]
    }
   ],
   "source": [
    "print(agent_mem.to_str())"
   ]
  },
  {
   "cell_type": "code",
   "execution_count": 12,
   "id": "6339cd26-31a1-4d22-a67c-f2145b47a440",
   "metadata": {},
   "outputs": [
    {
     "name": "stdout",
     "output_type": "stream",
     "text": [
      "INFO:fixpoint:Total input tokens: 53\n"
     ]
    }
   ],
   "source": [
    "compl = agent.chat.completions.create(\n",
    "    messages=[\n",
    "        smsg(\"You are a friendly AI customer support agent. You chat with a user to answer their questions\"),\n",
    "        umsg(\"Can you help me pick out a new sports car? I have a family of 6, should I get a Porsche or a Dodge Caravan?\"),\n",
    "    ],\n",
    "    response_model=SportsCar\n",
    ")"
   ]
  },
  {
   "cell_type": "code",
   "execution_count": 13,
   "id": "44bd3827-6657-41c6-81e7-213bac16b857",
   "metadata": {},
   "outputs": [
    {
     "data": {
      "text/plain": [
       "SportsCar(explanation='If you have a family of 6, a Dodge Caravan would be more suitable as it provides more seating capacity and space for your family members.', car='Dodge Caravan')"
      ]
     },
     "execution_count": 13,
     "metadata": {},
     "output_type": "execute_result"
    }
   ],
   "source": [
    "compl.fixp.structured_output"
   ]
  },
  {
   "cell_type": "code",
   "execution_count": 14,
   "id": "1692cc93-4765-4136-b9da-8369a5959d54",
   "metadata": {},
   "outputs": [
    {
     "data": {
      "text/plain": [
       "Choice(finish_reason='stop', index=0, logprobs=None, message=ChatCompletionMessage(content=None, role='assistant', function_call=None, tool_calls=[ChatCompletionMessageToolCall(id='call_z61wwiaS6GPTwwA5LaBJdmu6', function=Function(arguments='{\"explanation\":\"If you have a family of 6, a Dodge Caravan would be more suitable as it provides more seating capacity and space for your family members.\",\"car\":\"Dodge Caravan\"}', name='SportsCar'), type='function')]))"
      ]
     },
     "execution_count": 14,
     "metadata": {},
     "output_type": "execute_result"
    }
   ],
   "source": [
    "compl.choices[0]"
   ]
  },
  {
   "cell_type": "code",
   "execution_count": null,
   "id": "33ff846c-a1ac-4877-b398-1ebacbc4e669",
   "metadata": {},
   "outputs": [],
   "source": []
  },
  {
   "cell_type": "code",
   "execution_count": 15,
   "id": "12330143-f110-4497-83e9-d904c0238e0a",
   "metadata": {},
   "outputs": [],
   "source": [
    "df = agent_mem.to_dataframe()"
   ]
  },
  {
   "cell_type": "code",
   "execution_count": 16,
   "id": "a0761217-7639-4221-850e-03aacc64acc1",
   "metadata": {},
   "outputs": [
    {
     "data": {
      "text/html": [
       "<div>\n",
       "<style scoped>\n",
       "    .dataframe tbody tr th:only-of-type {\n",
       "        vertical-align: middle;\n",
       "    }\n",
       "\n",
       "    .dataframe tbody tr th {\n",
       "        vertical-align: top;\n",
       "    }\n",
       "\n",
       "    .dataframe thead th {\n",
       "        text-align: right;\n",
       "    }\n",
       "</style>\n",
       "<table border=\"1\" class=\"dataframe\">\n",
       "  <thead>\n",
       "    <tr style=\"text-align: right;\">\n",
       "      <th></th>\n",
       "      <th>turn_id</th>\n",
       "      <th>role</th>\n",
       "      <th>content</th>\n",
       "      <th>structured_output</th>\n",
       "      <th>workflow_id</th>\n",
       "    </tr>\n",
       "  </thead>\n",
       "  <tbody>\n",
       "    <tr>\n",
       "      <th>0</th>\n",
       "      <td>0</td>\n",
       "      <td>system</td>\n",
       "      <td>You are a friendly AI customer support agent. ...</td>\n",
       "      <td>None</td>\n",
       "      <td>None</td>\n",
       "    </tr>\n",
       "    <tr>\n",
       "      <th>1</th>\n",
       "      <td>0</td>\n",
       "      <td>user</td>\n",
       "      <td>Can you help me pick out a new sports car?</td>\n",
       "      <td>None</td>\n",
       "      <td>None</td>\n",
       "    </tr>\n",
       "    <tr>\n",
       "      <th>2</th>\n",
       "      <td>0</td>\n",
       "      <td>assistant</td>\n",
       "      <td>None</td>\n",
       "      <td>{'explanation': 'Sure, I'd be happy to help yo...</td>\n",
       "      <td>None</td>\n",
       "    </tr>\n",
       "    <tr>\n",
       "      <th>3</th>\n",
       "      <td>1</td>\n",
       "      <td>system</td>\n",
       "      <td>You are a friendly AI customer support agent. ...</td>\n",
       "      <td>None</td>\n",
       "      <td>None</td>\n",
       "    </tr>\n",
       "    <tr>\n",
       "      <th>4</th>\n",
       "      <td>1</td>\n",
       "      <td>user</td>\n",
       "      <td>Can you help me pick out a new sports car? I h...</td>\n",
       "      <td>None</td>\n",
       "      <td>None</td>\n",
       "    </tr>\n",
       "    <tr>\n",
       "      <th>5</th>\n",
       "      <td>1</td>\n",
       "      <td>assistant</td>\n",
       "      <td>None</td>\n",
       "      <td>{'explanation': 'If you have a family of 6, a ...</td>\n",
       "      <td>None</td>\n",
       "    </tr>\n",
       "  </tbody>\n",
       "</table>\n",
       "</div>"
      ],
      "text/plain": [
       "   turn_id       role                                            content  \\\n",
       "0        0     system  You are a friendly AI customer support agent. ...   \n",
       "1        0       user         Can you help me pick out a new sports car?   \n",
       "2        0  assistant                                               None   \n",
       "3        1     system  You are a friendly AI customer support agent. ...   \n",
       "4        1       user  Can you help me pick out a new sports car? I h...   \n",
       "5        1  assistant                                               None   \n",
       "\n",
       "                                   structured_output workflow_id  \n",
       "0                                               None        None  \n",
       "1                                               None        None  \n",
       "2  {'explanation': 'Sure, I'd be happy to help yo...        None  \n",
       "3                                               None        None  \n",
       "4                                               None        None  \n",
       "5  {'explanation': 'If you have a family of 6, a ...        None  "
      ]
     },
     "execution_count": 16,
     "metadata": {},
     "output_type": "execute_result"
    }
   ],
   "source": [
    "df"
   ]
  },
  {
   "cell_type": "code",
   "execution_count": 17,
   "id": "e69026f8-fb15-46e5-bb6f-b29d6868deea",
   "metadata": {},
   "outputs": [
    {
     "data": {
      "text/html": [
       "<div>\n",
       "<style scoped>\n",
       "    .dataframe tbody tr th:only-of-type {\n",
       "        vertical-align: middle;\n",
       "    }\n",
       "\n",
       "    .dataframe tbody tr th {\n",
       "        vertical-align: top;\n",
       "    }\n",
       "\n",
       "    .dataframe thead th {\n",
       "        text-align: right;\n",
       "    }\n",
       "</style>\n",
       "<table border=\"1\" class=\"dataframe\">\n",
       "  <thead>\n",
       "    <tr style=\"text-align: right;\">\n",
       "      <th></th>\n",
       "      <th>turn_id</th>\n",
       "      <th>role</th>\n",
       "      <th>content</th>\n",
       "      <th>structured_output</th>\n",
       "      <th>workflow_id</th>\n",
       "    </tr>\n",
       "  </thead>\n",
       "  <tbody>\n",
       "    <tr>\n",
       "      <th>3</th>\n",
       "      <td>1</td>\n",
       "      <td>system</td>\n",
       "      <td>You are a friendly AI customer support agent. ...</td>\n",
       "      <td>None</td>\n",
       "      <td>None</td>\n",
       "    </tr>\n",
       "    <tr>\n",
       "      <th>4</th>\n",
       "      <td>1</td>\n",
       "      <td>user</td>\n",
       "      <td>Can you help me pick out a new sports car? I h...</td>\n",
       "      <td>None</td>\n",
       "      <td>None</td>\n",
       "    </tr>\n",
       "    <tr>\n",
       "      <th>5</th>\n",
       "      <td>1</td>\n",
       "      <td>assistant</td>\n",
       "      <td>None</td>\n",
       "      <td>{'explanation': 'If you have a family of 6, a ...</td>\n",
       "      <td>None</td>\n",
       "    </tr>\n",
       "  </tbody>\n",
       "</table>\n",
       "</div>"
      ],
      "text/plain": [
       "   turn_id       role                                            content  \\\n",
       "3        1     system  You are a friendly AI customer support agent. ...   \n",
       "4        1       user  Can you help me pick out a new sports car? I h...   \n",
       "5        1  assistant                                               None   \n",
       "\n",
       "                                   structured_output workflow_id  \n",
       "3                                               None        None  \n",
       "4                                               None        None  \n",
       "5  {'explanation': 'If you have a family of 6, a ...        None  "
      ]
     },
     "execution_count": 17,
     "metadata": {},
     "output_type": "execute_result"
    }
   ],
   "source": [
    "df[df['turn_id'] == 1]"
   ]
  },
  {
   "cell_type": "code",
   "execution_count": 19,
   "id": "f45ecabe-9e14-471c-9089-4f8d2c435b49",
   "metadata": {},
   "outputs": [],
   "source": [
    "cmpl = agent_mem.memory()[-1].completion"
   ]
  },
  {
   "cell_type": "code",
   "execution_count": 20,
   "id": "e16287a3-0255-4bdb-8564-f6bf0cc8c0b4",
   "metadata": {},
   "outputs": [
    {
     "data": {
      "text/plain": [
       "\"explanation='If you have a family of 6, a Dodge Caravan would be more suitable as it provides more seating capacity and space for your family members.' car='Dodge Caravan'\""
      ]
     },
     "execution_count": 20,
     "metadata": {},
     "output_type": "execute_result"
    }
   ],
   "source": [
    "str(cmpl.fixp.structured_output)"
   ]
  },
  {
   "cell_type": "code",
   "execution_count": 21,
   "id": "d5238014-5eb1-40dd-9356-1416c370d600",
   "metadata": {},
   "outputs": [
    {
     "data": {
      "text/plain": [
       "{'explanation': 'If you have a family of 6, a Dodge Caravan would be more suitable as it provides more seating capacity and space for your family members.',\n",
       " 'car': 'Dodge Caravan'}"
      ]
     },
     "execution_count": 21,
     "metadata": {},
     "output_type": "execute_result"
    }
   ],
   "source": [
    "cmpl.fixp.structured_output.dict()"
   ]
  },
  {
   "cell_type": "code",
   "execution_count": 22,
   "id": "c8840063-2ec8-4199-97d0-b153721ee854",
   "metadata": {},
   "outputs": [
    {
     "data": {
      "text/html": [
       "<div>\n",
       "<style scoped>\n",
       "    .dataframe tbody tr th:only-of-type {\n",
       "        vertical-align: middle;\n",
       "    }\n",
       "\n",
       "    .dataframe tbody tr th {\n",
       "        vertical-align: top;\n",
       "    }\n",
       "\n",
       "    .dataframe thead th {\n",
       "        text-align: right;\n",
       "    }\n",
       "</style>\n",
       "<table border=\"1\" class=\"dataframe\">\n",
       "  <thead>\n",
       "    <tr style=\"text-align: right;\">\n",
       "      <th></th>\n",
       "      <th>turn_id</th>\n",
       "      <th>role</th>\n",
       "      <th>content</th>\n",
       "      <th>structured_output</th>\n",
       "      <th>workflow_id</th>\n",
       "    </tr>\n",
       "  </thead>\n",
       "  <tbody>\n",
       "    <tr>\n",
       "      <th>0</th>\n",
       "      <td>0</td>\n",
       "      <td>system</td>\n",
       "      <td>You are a friendly AI customer support agent. ...</td>\n",
       "      <td>None</td>\n",
       "      <td>None</td>\n",
       "    </tr>\n",
       "    <tr>\n",
       "      <th>1</th>\n",
       "      <td>0</td>\n",
       "      <td>user</td>\n",
       "      <td>Can you help me pick out a new sports car?</td>\n",
       "      <td>None</td>\n",
       "      <td>None</td>\n",
       "    </tr>\n",
       "    <tr>\n",
       "      <th>2</th>\n",
       "      <td>0</td>\n",
       "      <td>assistant</td>\n",
       "      <td>None</td>\n",
       "      <td>{'explanation': 'Sure, I'd be happy to help yo...</td>\n",
       "      <td>None</td>\n",
       "    </tr>\n",
       "    <tr>\n",
       "      <th>3</th>\n",
       "      <td>1</td>\n",
       "      <td>system</td>\n",
       "      <td>You are a friendly AI customer support agent. ...</td>\n",
       "      <td>None</td>\n",
       "      <td>None</td>\n",
       "    </tr>\n",
       "    <tr>\n",
       "      <th>4</th>\n",
       "      <td>1</td>\n",
       "      <td>user</td>\n",
       "      <td>Can you help me pick out a new sports car? I h...</td>\n",
       "      <td>None</td>\n",
       "      <td>None</td>\n",
       "    </tr>\n",
       "    <tr>\n",
       "      <th>5</th>\n",
       "      <td>1</td>\n",
       "      <td>assistant</td>\n",
       "      <td>None</td>\n",
       "      <td>{'explanation': 'If you have a family of 6, a ...</td>\n",
       "      <td>None</td>\n",
       "    </tr>\n",
       "  </tbody>\n",
       "</table>\n",
       "</div>"
      ],
      "text/plain": [
       "   turn_id       role                                            content  \\\n",
       "0        0     system  You are a friendly AI customer support agent. ...   \n",
       "1        0       user         Can you help me pick out a new sports car?   \n",
       "2        0  assistant                                               None   \n",
       "3        1     system  You are a friendly AI customer support agent. ...   \n",
       "4        1       user  Can you help me pick out a new sports car? I h...   \n",
       "5        1  assistant                                               None   \n",
       "\n",
       "                                   structured_output workflow_id  \n",
       "0                                               None        None  \n",
       "1                                               None        None  \n",
       "2  {'explanation': 'Sure, I'd be happy to help yo...        None  \n",
       "3                                               None        None  \n",
       "4                                               None        None  \n",
       "5  {'explanation': 'If you have a family of 6, a ...        None  "
      ]
     },
     "execution_count": 22,
     "metadata": {},
     "output_type": "execute_result"
    }
   ],
   "source": [
    "agent_mem.to_dataframe()"
   ]
  }
 ],
 "metadata": {
  "kernelspec": {
   "display_name": "Python 3 (ipykernel)",
   "language": "python",
   "name": "python3"
  },
  "language_info": {
   "codemirror_mode": {
    "name": "ipython",
    "version": 3
   },
   "file_extension": ".py",
   "mimetype": "text/x-python",
   "name": "python",
   "nbconvert_exporter": "python",
   "pygments_lexer": "ipython3",
   "version": "3.12.3"
  }
 },
 "nbformat": 4,
 "nbformat_minor": 5
}
